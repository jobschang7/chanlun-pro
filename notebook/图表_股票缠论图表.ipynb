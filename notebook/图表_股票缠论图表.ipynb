{
 "cells": [
  {
   "cell_type": "markdown",
   "metadata": {
    "pycharm": {
     "name": "#%% md\n"
    }
   },
   "source": [
    "# 缠论数据图表"
   ]
  },
  {
   "cell_type": "code",
   "execution_count": 1,
   "metadata": {
    "pycharm": {
     "name": "#%%\n"
    },
    "tags": []
   },
   "outputs": [
    {
     "name": "stdout",
     "output_type": "stream",
     "text": [
      "Chanlun-Pro 缠论数据计算\n",
      "https://gitee.com/wang-student/chanlun-pro\n",
      "运行环境: Python: 3.10\n",
      "授权信息: trial (过期时间: 2024-07-17)\n",
      " *  *  *  *  *  *  *  *  *  *  *  *  *  *  *  *  *  *  *  * \n"
     ]
    }
   ],
   "source": [
    "import time\n",
    "\n",
    "from chanlun import kcharts\n",
    "from chanlun.cl_utils import query_cl_chart_config\n",
    "from chanlun.exchange import get_exchange, Market\n",
    "from chanlun.exchange.exchange_db import ExchangeDB\n",
    "from chanlun import cl\n"
   ]
  },
  {
   "cell_type": "code",
   "execution_count": 2,
   "metadata": {
    "pycharm": {
     "name": "#%%\n"
    },
    "tags": []
   },
   "outputs": [],
   "source": [
    "# 市场\n",
    "market = 'currency'  # a 沪深A股  hk 港股 us 美股 futures 期货 currency 数字货币\n",
    "# 标的代码\n",
    "code = 'PEPE/USDT'\n",
    "# 获取周期，可设置多个\n",
    "frequencys = ['15m']\n",
    "# 开始时间（需要api接口支持）\n",
    "start_date = '2024-06-25 00:00:00'\n",
    "# 结束时间（需要api接口支持）\n",
    "end_date = '2024-06-26 00:00:00'\n",
    "# 缠论计算配置\n",
    "cl_config = query_cl_chart_config(market, code)\n",
    "\n",
    "ex = get_exchange(Market(market)) # 使用在线的k线数据接口\n",
    "# ex = ExchangeDB(market) # 读取数据库中的k线数据"
   ]
  },
  {
   "cell_type": "code",
   "execution_count": 3,
   "metadata": {
    "pycharm": {
     "name": "#%%\n"
    },
    "tags": []
   },
   "outputs": [
    {
     "name": "stdout",
     "output_type": "stream",
     "text": [
      "Traceback (most recent call last):\n",
      "  File \"C:\\Users\\jobs\\Documents\\chanlun-pro\\src\\chanlun\\exchange\\exchange_binance.py\", line 128, in klines\n",
      "    online_klines = self.online_klines(\n",
      "  File \"C:\\Users\\jobs\\Documents\\chanlun-pro\\src\\chanlun\\exchange\\exchange_binance.py\", line 220, in online_klines\n",
      "    kline = self.exchange.fetch_ohlcv(\n",
      "  File \"c:\\Users\\jobs\\anaconda3\\envs\\chanlun\\lib\\site-packages\\ccxt\\binance.py\", line 3174, in fetch_ohlcv\n",
      "    market = self.market(symbol)\n",
      "  File \"c:\\Users\\jobs\\anaconda3\\envs\\chanlun\\lib\\site-packages\\ccxt\\binance.py\", line 1805, in market\n",
      "    raise BadSymbol(self.id + ' does not have market symbol ' + symbol)\n",
      "ccxt.base.errors.BadSymbol: binanceusdm does not have market symbol PEPE/USDT\n",
      "\n",
      "Traceback (most recent call last):\n",
      "  File \"C:\\Users\\jobs\\Documents\\chanlun-pro\\src\\chanlun\\exchange\\exchange_binance.py\", line 128, in klines\n",
      "    online_klines = self.online_klines(\n",
      "  File \"C:\\Users\\jobs\\Documents\\chanlun-pro\\src\\chanlun\\exchange\\exchange_binance.py\", line 220, in online_klines\n",
      "    kline = self.exchange.fetch_ohlcv(\n",
      "  File \"c:\\Users\\jobs\\anaconda3\\envs\\chanlun\\lib\\site-packages\\ccxt\\binance.py\", line 3174, in fetch_ohlcv\n",
      "    market = self.market(symbol)\n",
      "  File \"c:\\Users\\jobs\\anaconda3\\envs\\chanlun\\lib\\site-packages\\ccxt\\binance.py\", line 1805, in market\n",
      "    raise BadSymbol(self.id + ' does not have market symbol ' + symbol)\n",
      "ccxt.base.errors.BadSymbol: binanceusdm does not have market symbol PEPE/USDT\n",
      "\n",
      "Traceback (most recent call last):\n",
      "  File \"C:\\Users\\jobs\\Documents\\chanlun-pro\\src\\chanlun\\exchange\\exchange_binance.py\", line 128, in klines\n",
      "    online_klines = self.online_klines(\n",
      "  File \"C:\\Users\\jobs\\Documents\\chanlun-pro\\src\\chanlun\\exchange\\exchange_binance.py\", line 220, in online_klines\n",
      "    kline = self.exchange.fetch_ohlcv(\n",
      "  File \"c:\\Users\\jobs\\anaconda3\\envs\\chanlun\\lib\\site-packages\\ccxt\\binance.py\", line 3174, in fetch_ohlcv\n",
      "    market = self.market(symbol)\n",
      "  File \"c:\\Users\\jobs\\anaconda3\\envs\\chanlun\\lib\\site-packages\\ccxt\\binance.py\", line 1805, in market\n",
      "    raise BadSymbol(self.id + ' does not have market symbol ' + symbol)\n",
      "ccxt.base.errors.BadSymbol: binanceusdm does not have market symbol PEPE/USDT\n",
      "\n"
     ]
    },
    {
     "ename": "RetryError",
     "evalue": "RetryError[<Future at 0x26310af9330 state=finished returned NoneType>]",
     "output_type": "error",
     "traceback": [
      "\u001b[1;31m---------------------------------------------------------------------------\u001b[0m",
      "\u001b[1;31mRetryError\u001b[0m                                Traceback (most recent call last)",
      "Cell \u001b[1;32mIn[3], line 6\u001b[0m\n\u001b[0;32m      2\u001b[0m cl_datas \u001b[38;5;241m=\u001b[39m []\n\u001b[0;32m      5\u001b[0m \u001b[38;5;28;01mfor\u001b[39;00m f \u001b[38;5;129;01min\u001b[39;00m frequencys:\n\u001b[1;32m----> 6\u001b[0m     klines \u001b[38;5;241m=\u001b[39m \u001b[43mex\u001b[49m\u001b[38;5;241;43m.\u001b[39;49m\u001b[43mklines\u001b[49m\u001b[43m(\u001b[49m\u001b[43mcode\u001b[49m\u001b[43m,\u001b[49m\u001b[43m \u001b[49m\u001b[43mfrequency\u001b[49m\u001b[38;5;241;43m=\u001b[39;49m\u001b[43mf\u001b[49m\u001b[43m,\u001b[49m\u001b[43m \u001b[49m\u001b[43mstart_date\u001b[49m\u001b[38;5;241;43m=\u001b[39;49m\u001b[43mstart_date\u001b[49m\u001b[43m,\u001b[49m\u001b[43m \u001b[49m\u001b[43mend_date\u001b[49m\u001b[38;5;241;43m=\u001b[39;49m\u001b[43mend_date\u001b[49m\u001b[43m)\u001b[49m\n\u001b[0;32m      7\u001b[0m     \u001b[38;5;66;03m# klines = klines[0:630:]\u001b[39;00m\n\u001b[0;32m      8\u001b[0m     \u001b[38;5;28mprint\u001b[39m(f, \u001b[38;5;124m'\u001b[39m\u001b[38;5;124m获取K线数据量：\u001b[39m\u001b[38;5;124m'\u001b[39m, \u001b[38;5;28mlen\u001b[39m(klines))\n",
      "File \u001b[1;32mc:\\Users\\jobs\\anaconda3\\envs\\chanlun\\lib\\site-packages\\tenacity\\__init__.py:336\u001b[0m, in \u001b[0;36mBaseRetrying.wraps.<locals>.wrapped_f\u001b[1;34m(*args, **kw)\u001b[0m\n\u001b[0;32m    334\u001b[0m copy \u001b[38;5;241m=\u001b[39m \u001b[38;5;28mself\u001b[39m\u001b[38;5;241m.\u001b[39mcopy()\n\u001b[0;32m    335\u001b[0m wrapped_f\u001b[38;5;241m.\u001b[39mstatistics \u001b[38;5;241m=\u001b[39m copy\u001b[38;5;241m.\u001b[39mstatistics  \u001b[38;5;66;03m# type: ignore[attr-defined]\u001b[39;00m\n\u001b[1;32m--> 336\u001b[0m \u001b[38;5;28;01mreturn\u001b[39;00m copy(f, \u001b[38;5;241m*\u001b[39margs, \u001b[38;5;241m*\u001b[39m\u001b[38;5;241m*\u001b[39mkw)\n",
      "File \u001b[1;32mc:\\Users\\jobs\\anaconda3\\envs\\chanlun\\lib\\site-packages\\tenacity\\__init__.py:475\u001b[0m, in \u001b[0;36mRetrying.__call__\u001b[1;34m(self, fn, *args, **kwargs)\u001b[0m\n\u001b[0;32m    473\u001b[0m retry_state \u001b[38;5;241m=\u001b[39m RetryCallState(retry_object\u001b[38;5;241m=\u001b[39m\u001b[38;5;28mself\u001b[39m, fn\u001b[38;5;241m=\u001b[39mfn, args\u001b[38;5;241m=\u001b[39margs, kwargs\u001b[38;5;241m=\u001b[39mkwargs)\n\u001b[0;32m    474\u001b[0m \u001b[38;5;28;01mwhile\u001b[39;00m \u001b[38;5;28;01mTrue\u001b[39;00m:\n\u001b[1;32m--> 475\u001b[0m     do \u001b[38;5;241m=\u001b[39m \u001b[38;5;28;43mself\u001b[39;49m\u001b[38;5;241;43m.\u001b[39;49m\u001b[43miter\u001b[49m\u001b[43m(\u001b[49m\u001b[43mretry_state\u001b[49m\u001b[38;5;241;43m=\u001b[39;49m\u001b[43mretry_state\u001b[49m\u001b[43m)\u001b[49m\n\u001b[0;32m    476\u001b[0m     \u001b[38;5;28;01mif\u001b[39;00m \u001b[38;5;28misinstance\u001b[39m(do, DoAttempt):\n\u001b[0;32m    477\u001b[0m         \u001b[38;5;28;01mtry\u001b[39;00m:\n",
      "File \u001b[1;32mc:\\Users\\jobs\\anaconda3\\envs\\chanlun\\lib\\site-packages\\tenacity\\__init__.py:376\u001b[0m, in \u001b[0;36mBaseRetrying.iter\u001b[1;34m(self, retry_state)\u001b[0m\n\u001b[0;32m    374\u001b[0m result \u001b[38;5;241m=\u001b[39m \u001b[38;5;28;01mNone\u001b[39;00m\n\u001b[0;32m    375\u001b[0m \u001b[38;5;28;01mfor\u001b[39;00m action \u001b[38;5;129;01min\u001b[39;00m \u001b[38;5;28mself\u001b[39m\u001b[38;5;241m.\u001b[39miter_state\u001b[38;5;241m.\u001b[39mactions:\n\u001b[1;32m--> 376\u001b[0m     result \u001b[38;5;241m=\u001b[39m \u001b[43maction\u001b[49m\u001b[43m(\u001b[49m\u001b[43mretry_state\u001b[49m\u001b[43m)\u001b[49m\n\u001b[0;32m    377\u001b[0m \u001b[38;5;28;01mreturn\u001b[39;00m result\n",
      "File \u001b[1;32mc:\\Users\\jobs\\anaconda3\\envs\\chanlun\\lib\\site-packages\\tenacity\\__init__.py:419\u001b[0m, in \u001b[0;36mBaseRetrying._post_stop_check_actions.<locals>.exc_check\u001b[1;34m(rs)\u001b[0m\n\u001b[0;32m    417\u001b[0m \u001b[38;5;28;01mif\u001b[39;00m \u001b[38;5;28mself\u001b[39m\u001b[38;5;241m.\u001b[39mreraise:\n\u001b[0;32m    418\u001b[0m     \u001b[38;5;28;01mraise\u001b[39;00m retry_exc\u001b[38;5;241m.\u001b[39mreraise()\n\u001b[1;32m--> 419\u001b[0m \u001b[38;5;28;01mraise\u001b[39;00m retry_exc \u001b[38;5;28;01mfrom\u001b[39;00m \u001b[38;5;21;01mfut\u001b[39;00m\u001b[38;5;21;01m.\u001b[39;00m\u001b[38;5;21;01mexception\u001b[39;00m()\n",
      "\u001b[1;31mRetryError\u001b[0m: RetryError[<Future at 0x26310af9330 state=finished returned NoneType>]"
     ]
    }
   ],
   "source": [
    "renders = []\n",
    "cl_datas = []\n",
    "\n",
    "\n",
    "for f in frequencys:\n",
    "    klines = ex.klines(code, frequency=f, start_date=start_date, end_date=end_date)\n",
    "    # klines = klines[0:630:]\n",
    "    print(f, '获取K线数据量：', len(klines))\n",
    "    _s = time.time()\n",
    "    cl_datas.append(cl.CL(code, f, cl_config).process_klines(klines))\n",
    "    print('Run time: ', time.time() - _s)\n",
    "\n",
    "for cd in cl_datas:\n",
    "    title = '%s - 【%s】 周期数据图表' % (code, cd.frequency)\n",
    "    renders.append(kcharts.render_charts(title, cd))"
   ]
  },
  {
   "cell_type": "code",
   "execution_count": null,
   "metadata": {
    "pycharm": {
     "is_executing": true,
     "name": "#%%\n"
    },
    "tags": []
   },
   "outputs": [],
   "source": [
    "renders[0]"
   ]
  },
  {
   "cell_type": "code",
   "execution_count": null,
   "metadata": {
    "pycharm": {
     "is_executing": true,
     "name": "#%%\n"
    },
    "tags": []
   },
   "outputs": [],
   "source": [
    "renders[1]"
   ]
  },
  {
   "cell_type": "code",
   "execution_count": null,
   "metadata": {
    "pycharm": {
     "name": "#%%\n"
    }
   },
   "outputs": [],
   "source": [
    "renders[2]"
   ]
  },
  {
   "cell_type": "code",
   "execution_count": null,
   "metadata": {
    "pycharm": {
     "name": "#%%\n"
    }
   },
   "outputs": [],
   "source": [
    "renders[3]"
   ]
  },
  {
   "cell_type": "markdown",
   "metadata": {
    "pycharm": {
     "name": "#%% md\n"
    }
   },
   "source": [
    "### 以下可以写自己代码获取所需并分析"
   ]
  },
  {
   "cell_type": "code",
   "execution_count": null,
   "metadata": {
    "pycharm": {
     "name": "#%%\n"
    }
   },
   "outputs": [],
   "source": [
    "# 最后一个线段\n",
    "xd = cl_datas[0].xds[-1]\n",
    "print(xd)"
   ]
  },
  {
   "cell_type": "code",
   "execution_count": null,
   "metadata": {
    "pycharm": {
     "name": "#%%\n"
    },
    "tags": []
   },
   "outputs": [],
   "source": []
  },
  {
   "cell_type": "code",
   "execution_count": null,
   "metadata": {
    "pycharm": {
     "name": "#%%\n"
    }
   },
   "outputs": [],
   "source": []
  }
 ],
 "metadata": {
  "kernelspec": {
   "display_name": "Python 3 (ipykernel)",
   "language": "python",
   "name": "python3"
  },
  "language_info": {
   "codemirror_mode": {
    "name": "ipython",
    "version": 3
   },
   "file_extension": ".py",
   "mimetype": "text/x-python",
   "name": "python",
   "nbconvert_exporter": "python",
   "pygments_lexer": "ipython3",
   "version": "3.10.14"
  }
 },
 "nbformat": 4,
 "nbformat_minor": 4
}
